{
  "cells": [
    {
      "cell_type": "markdown",
      "metadata": {
        "id": "view-in-github",
        "colab_type": "text"
      },
      "source": [
        "<a href=\"https://colab.research.google.com/github/NancyBiyahut/face-acne-grding-using-CNN/blob/main/training.ipynb\" target=\"_parent\"><img src=\"https://colab.research.google.com/assets/colab-badge.svg\" alt=\"Open In Colab\"/></a>"
      ]
    },
    {
      "cell_type": "code",
      "execution_count": 1,
      "metadata": {
        "id": "8QtDRaRwpBXK"
      },
      "outputs": [],
      "source": [
        "import tensorflow as tf\n",
        "from tensorflow.keras import models , layers\n",
        "import matplotlib.pyplot as plt"
      ]
    },
    {
      "cell_type": "code",
      "execution_count": 2,
      "metadata": {
        "id": "PVxATwpEpFXY"
      },
      "outputs": [],
      "source": [
        "IMAGE_SIZE_l= 550\n",
        "IMAGE_SIZE_h= 550\n",
        "BATCH_SIZE = 32\n",
        "CHANELS = 3\n",
        "EPOCHS = 5"
      ]
    },
    {
      "cell_type": "code",
      "execution_count": 3,
      "metadata": {
        "colab": {
          "base_uri": "https://localhost:8080/"
        },
        "id": "bUEN3UbGq9fH",
        "outputId": "b06fca59-cba7-4f0b-8115-28c68da7a5f4"
      },
      "outputs": [
        {
          "output_type": "stream",
          "name": "stdout",
          "text": [
            "Found 999 files belonging to 3 classes.\n"
          ]
        }
      ],
      "source": [
        "dataset = tf.keras.preprocessing.image_dataset_from_directory(\n",
        "    \"/content/drive/MyDrive/db\",\n",
        "    shuffle = True,\n",
        "    image_size = (IMAGE_SIZE_l,IMAGE_SIZE_h) ,\n",
        "    batch_size = BATCH_SIZE\n",
        ")"
      ]
    },
    {
      "cell_type": "code",
      "execution_count": 4,
      "metadata": {
        "colab": {
          "base_uri": "https://localhost:8080/"
        },
        "id": "iXp9GVHUrrMB",
        "outputId": "84f5fd4b-b05d-46c8-890a-9e6f455ea30f"
      },
      "outputs": [
        {
          "output_type": "execute_result",
          "data": {
            "text/plain": [
              "['Level_0', 'Level_1', 'Level_2']"
            ]
          },
          "metadata": {},
          "execution_count": 4
        }
      ],
      "source": [
        "class_names = dataset.class_names\n",
        "class_names"
      ]
    },
    {
      "cell_type": "code",
      "execution_count": 5,
      "metadata": {
        "colab": {
          "base_uri": "https://localhost:8080/"
        },
        "id": "QWHJfLk0r1UD",
        "outputId": "803e1636-102c-4e81-df74-d33f596f8b0e"
      },
      "outputs": [
        {
          "output_type": "stream",
          "name": "stdout",
          "text": [
            "(550, 550, 3)\n"
          ]
        }
      ],
      "source": [
        "for image_batch , label_batch in dataset.take(1):\n",
        " print(image_batch[0].shape)"
      ]
    },
    {
      "cell_type": "code",
      "execution_count": 6,
      "metadata": {
        "colab": {
          "base_uri": "https://localhost:8080/"
        },
        "id": "7MbRDQxqtEQX",
        "outputId": "7c4d4b32-a40e-4f54-c824-55c8e03b7ee2"
      },
      "outputs": [
        {
          "output_type": "execute_result",
          "data": {
            "text/plain": [
              "32"
            ]
          },
          "metadata": {},
          "execution_count": 6
        }
      ],
      "source": [
        "len(dataset)"
      ]
    },
    {
      "cell_type": "code",
      "execution_count": 7,
      "metadata": {
        "colab": {
          "base_uri": "https://localhost:8080/"
        },
        "id": "H8TBB117tsNL",
        "outputId": "b06451a3-e812-47e2-8630-fd2bd9d63a19"
      },
      "outputs": [
        {
          "output_type": "execute_result",
          "data": {
            "text/plain": [
              "25.6"
            ]
          },
          "metadata": {},
          "execution_count": 7
        }
      ],
      "source": [
        "train_size = 0.8\n",
        "len(dataset) * train_size"
      ]
    },
    {
      "cell_type": "code",
      "execution_count": 8,
      "metadata": {
        "id": "VXb5ZmsEuGxJ"
      },
      "outputs": [],
      "source": [
        "train_ds= dataset.take(25)\n",
        "test_ds = dataset.skip(25)"
      ]
    },
    {
      "cell_type": "code",
      "execution_count": 9,
      "metadata": {
        "colab": {
          "base_uri": "https://localhost:8080/"
        },
        "id": "HzBHzS2ouiqr",
        "outputId": "e7bf3192-38d3-4004-b106-ac88f02e8f36"
      },
      "outputs": [
        {
          "output_type": "execute_result",
          "data": {
            "text/plain": [
              "3.2"
            ]
          },
          "metadata": {},
          "execution_count": 9
        }
      ],
      "source": [
        "val_size = 0.1\n",
        "len(dataset) * val_size"
      ]
    },
    {
      "cell_type": "code",
      "execution_count": 10,
      "metadata": {
        "colab": {
          "base_uri": "https://localhost:8080/"
        },
        "id": "U4IWUei4uqkf",
        "outputId": "b7957f14-e077-42ed-d94b-2da4c2390e72"
      },
      "outputs": [
        {
          "output_type": "execute_result",
          "data": {
            "text/plain": [
              "3"
            ]
          },
          "metadata": {},
          "execution_count": 10
        }
      ],
      "source": [
        "val_ds = test_ds.take(3)\n",
        "len(val_ds)"
      ]
    },
    {
      "cell_type": "code",
      "execution_count": 11,
      "metadata": {
        "colab": {
          "base_uri": "https://localhost:8080/"
        },
        "id": "LUnjnQCnu52K",
        "outputId": "40e604ba-7c35-4a45-a056-c122bf9db220"
      },
      "outputs": [
        {
          "output_type": "execute_result",
          "data": {
            "text/plain": [
              "4"
            ]
          },
          "metadata": {},
          "execution_count": 11
        }
      ],
      "source": [
        "test_ds = test_ds.skip(3)\n",
        "len(test_ds)"
      ]
    },
    {
      "cell_type": "code",
      "execution_count": 12,
      "metadata": {
        "id": "Ocera2JBvYAl"
      },
      "outputs": [],
      "source": [
        "train_ds= train_ds.cache().shuffle(500).prefetch(buffer_size = tf.data.AUTOTUNE)\n",
        "test_ds= test_ds.cache().shuffle(500).prefetch(buffer_size = tf.data.AUTOTUNE)\n",
        "val_ds= val_ds.cache().shuffle(500).prefetch(buffer_size = tf.data.AUTOTUNE)"
      ]
    },
    {
      "cell_type": "code",
      "execution_count": 13,
      "metadata": {
        "id": "koYulYQNwKQ6"
      },
      "outputs": [],
      "source": [
        "resize_and_rescale = tf.keras.Sequential([\n",
        "      layers.experimental.preprocessing.Resizing(IMAGE_SIZE_l,IMAGE_SIZE_h),                \n",
        "     layers.experimental.preprocessing.Rescaling(1.0/550)               \n",
        "])"
      ]
    },
    {
      "cell_type": "code",
      "execution_count": 14,
      "metadata": {
        "id": "0_LPCeuryDXV"
      },
      "outputs": [],
      "source": [
        "data_augumentation = tf.keras.Sequential([\n",
        "     layers.experimental.preprocessing.RandomFlip(\"horizontal_and_vertical\"),\n",
        "      layers.experimental.preprocessing.RandomRotation(0.2)                \n",
        "])"
      ]
    },
    {
      "cell_type": "code",
      "execution_count": 15,
      "metadata": {
        "id": "-xw5be1ny0Wg"
      },
      "outputs": [],
      "source": [
        "input_shape = (BATCH_SIZE, IMAGE_SIZE_l , IMAGE_SIZE_h , CHANELS)\n",
        "n_classes = 3\n",
        "model = models.Sequential([\n",
        "  resize_and_rescale,\n",
        "  data_augumentation,\n",
        "  layers.Conv2D(32,(3,3),activation='relu' , input_shape= input_shape),\n",
        "  layers.MaxPooling2D((2,2)) ,\n",
        "  layers.Conv2D(64,(3,3),activation='relu' , input_shape= input_shape),\n",
        "  layers.MaxPooling2D((2,2)),\n",
        "  layers.Conv2D(64,(3,3),activation='relu' , input_shape= input_shape),\n",
        "  layers.MaxPooling2D((2,2)),\n",
        "  layers.Conv2D(64,(3,3),activation='relu' , input_shape= input_shape),\n",
        "  layers.MaxPooling2D((2,2)),\n",
        "  layers.Conv2D(64,(3,3),activation='relu' , input_shape= input_shape),\n",
        "  layers.MaxPooling2D((2,2)),\n",
        "  layers.Conv2D(64,(3,3),activation='relu' , input_shape= input_shape),\n",
        "  layers.MaxPooling2D((2,2)),\n",
        "  layers.Flatten(),\n",
        "  layers.Dense(64, activation='relu'),\n",
        "  layers.Dense( n_classes, activation= 'softmax')\n",
        "\n",
        "])\n",
        "\n",
        "model.build(input_shape=input_shape)"
      ]
    },
    {
      "cell_type": "code",
      "execution_count": 16,
      "metadata": {
        "colab": {
          "base_uri": "https://localhost:8080/"
        },
        "id": "-t1h72LD1gWR",
        "outputId": "515b80b6-34cf-46eb-c0fb-9d5c925f6f6c"
      },
      "outputs": [
        {
          "output_type": "stream",
          "name": "stdout",
          "text": [
            "Model: \"sequential_2\"\n",
            "_________________________________________________________________\n",
            " Layer (type)                Output Shape              Param #   \n",
            "=================================================================\n",
            " sequential (Sequential)     (32, 550, 550, 3)         0         \n",
            "                                                                 \n",
            " sequential_1 (Sequential)   (32, 550, 550, 3)         0         \n",
            "                                                                 \n",
            " conv2d (Conv2D)             (32, 548, 548, 32)        896       \n",
            "                                                                 \n",
            " max_pooling2d (MaxPooling2D  (32, 274, 274, 32)       0         \n",
            " )                                                               \n",
            "                                                                 \n",
            " conv2d_1 (Conv2D)           (32, 272, 272, 64)        18496     \n",
            "                                                                 \n",
            " max_pooling2d_1 (MaxPooling  (32, 136, 136, 64)       0         \n",
            " 2D)                                                             \n",
            "                                                                 \n",
            " conv2d_2 (Conv2D)           (32, 134, 134, 64)        36928     \n",
            "                                                                 \n",
            " max_pooling2d_2 (MaxPooling  (32, 67, 67, 64)         0         \n",
            " 2D)                                                             \n",
            "                                                                 \n",
            " conv2d_3 (Conv2D)           (32, 65, 65, 64)          36928     \n",
            "                                                                 \n",
            " max_pooling2d_3 (MaxPooling  (32, 32, 32, 64)         0         \n",
            " 2D)                                                             \n",
            "                                                                 \n",
            " conv2d_4 (Conv2D)           (32, 30, 30, 64)          36928     \n",
            "                                                                 \n",
            " max_pooling2d_4 (MaxPooling  (32, 15, 15, 64)         0         \n",
            " 2D)                                                             \n",
            "                                                                 \n",
            " conv2d_5 (Conv2D)           (32, 13, 13, 64)          36928     \n",
            "                                                                 \n",
            " max_pooling2d_5 (MaxPooling  (32, 6, 6, 64)           0         \n",
            " 2D)                                                             \n",
            "                                                                 \n",
            " flatten (Flatten)           (32, 2304)                0         \n",
            "                                                                 \n",
            " dense (Dense)               (32, 64)                  147520    \n",
            "                                                                 \n",
            " dense_1 (Dense)             (32, 3)                   195       \n",
            "                                                                 \n",
            "=================================================================\n",
            "Total params: 314,819\n",
            "Trainable params: 314,819\n",
            "Non-trainable params: 0\n",
            "_________________________________________________________________\n"
          ]
        }
      ],
      "source": [
        "model.summary()"
      ]
    },
    {
      "cell_type": "code",
      "execution_count": 17,
      "metadata": {
        "id": "0au4n1I-0lWU"
      },
      "outputs": [],
      "source": [
        "model.compile(\n",
        "    optimizer = 'adam',\n",
        "    loss = tf.keras.losses.SparseCategoricalCrossentropy(from_logits=False),\n",
        "    metrics=['accuracy']\n",
        ")"
      ]
    },
    {
      "cell_type": "code",
      "execution_count": null,
      "metadata": {
        "colab": {
          "base_uri": "https://localhost:8080/"
        },
        "id": "BtIkBE8X2He_",
        "outputId": "5f5233ab-1ff9-4000-8a4e-3aee54096dd5"
      },
      "outputs": [
        {
          "output_type": "stream",
          "name": "stdout",
          "text": [
            "Epoch 1/5\n",
            "10/25 [===========>..................] - ETA: 4:11 - loss: 1.0368 - accuracy: 0.3656"
          ]
        }
      ],
      "source": [
        "from tensorflow.python.ops.gen_batch_ops import batch\n",
        "history = model.fit(\n",
        "   train_ds,\n",
        "   epochs = EPOCHS,\n",
        "   batch_size = BATCH_SIZE ,\n",
        "   verbose = 1,\n",
        "   validation_data = val_ds\n",
        ")"
      ]
    },
    {
      "cell_type": "code",
      "execution_count": null,
      "metadata": {
        "colab": {
          "background_save": true
        },
        "id": "JBDGczsg3M6e"
      },
      "outputs": [],
      "source": [
        "score = model.evaluate(test_ds)"
      ]
    },
    {
      "cell_type": "code",
      "execution_count": null,
      "metadata": {
        "colab": {
          "background_save": true
        },
        "id": "egrToVO73VoU"
      },
      "outputs": [],
      "source": [
        ""
      ]
    }
  ],
  "metadata": {
    "colab": {
      "name": "training.ipynb",
      "provenance": [],
      "collapsed_sections": [],
      "mount_file_id": "13Sji8Aa0wfd3T4usrIn9VVtZkc8MqN01",
      "authorship_tag": "ABX9TyOrDjUHoZvnIHRAtOWPen1A",
      "include_colab_link": true
    },
    "gpuClass": "standard",
    "kernelspec": {
      "display_name": "Python 3",
      "name": "python3"
    },
    "language_info": {
      "name": "python"
    }
  },
  "nbformat": 4,
  "nbformat_minor": 0
}